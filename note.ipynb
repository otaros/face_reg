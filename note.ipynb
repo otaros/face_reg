{
 "cells": [
  {
   "cell_type": "code",
   "execution_count": 1,
   "metadata": {},
   "outputs": [],
   "source": [
    "import numpy as np\n",
    "import torch\n",
    "import facenet_pytorch\n",
    "import cv2 as cv\n",
    "import matplotlib.pyplot as plt"
   ]
  },
  {
   "cell_type": "code",
   "execution_count": 2,
   "metadata": {},
   "outputs": [],
   "source": [
    "from detect_fastmtcnn import FastMTCNN\n",
    "detector = FastMTCNN(resize=0.5, margin=14, factor=0.5, keep_all=True, device=\"cuda\")\n",
    "\n",
    "\n",
    "def extract_face(filename, required_size=(160, 160)):\n",
    "    image = cv.imread(filename)\n",
    "    results = detector(image)\n",
    "    faces_array = []\n",
    "    for x, y, w, h in results:\n",
    "        x *= 2\n",
    "        y *= 2\n",
    "        w *= 2\n",
    "        h *= 2\n",
    "        face = image[y:h, x:w]\n",
    "        face = cv.resize(face, required_size)\n",
    "        faces_array.append(face)\n",
    "    return np.asarray(faces_array)"
   ]
  },
  {
   "cell_type": "code",
   "execution_count": 3,
   "metadata": {},
   "outputs": [],
   "source": [
    "import os\n",
    "from keras_facenet import FaceNet\n",
    "\n",
    "model = FaceNet()\n",
    "\n",
    "\n",
    "def load_face(dir, required_size=(160, 160)):\n",
    "    faces = []\n",
    "    for filename in os.listdir(dir):\n",
    "        path = dir + filename\n",
    "        face = extract_face(path, required_size)\n",
    "        faces.append(face)\n",
    "    faces = np.asarray(faces)\n",
    "    return faces\n",
    "\n",
    "\n",
    "def load_dataset(dir, required_size=(160, 160)):\n",
    "    faces = None\n",
    "    labels = None\n",
    "    for subdir in os.listdir(path):\n",
    "        faces_list = []\n",
    "        labels_list = []\n",
    "        for filename in os.listdir(path + subdir + \"/\"):\n",
    "            file_path = path + subdir + \"/\" + filename\n",
    "            print(file_path)\n",
    "            face = extract_face(file_path)\n",
    "            faces_list.extend(face)\n",
    "            labels_list.extend([subdir for _ in range(len(face))])\n",
    "        if faces is None:\n",
    "            faces = np.asarray(faces_list)\n",
    "            labels = np.asarray(labels_list)\n",
    "        else:\n",
    "            faces = np.concatenate((faces, faces_list))\n",
    "            labels = np.concatenate((labels, labels_list))\n",
    "    return faces, labels\n",
    "\n",
    "\n",
    "def get_embedding_face(face):\n",
    "    face = face.astype(\"float32\")\n",
    "    mean, std = face.mean(), face.std()\n",
    "    face = (face - mean) / std\n",
    "\n",
    "    samples = np.expand_dims(face, axis=0)\n",
    "    yhat = model.embeddings(samples)\n",
    "    yhat = np.asarray(yhat)\n",
    "    return yhat[0]"
   ]
  },
  {
   "cell_type": "code",
   "execution_count": 4,
   "metadata": {},
   "outputs": [],
   "source": [
    "def calculate_average_embeddings(faces, labels):\n",
    "    unique_labels = np.unique(labels)\n",
    "    average_embeddings = []\n",
    "\n",
    "    for label in unique_labels:\n",
    "        label_faces = faces[labels == label]\n",
    "        embeddings = []\n",
    "\n",
    "        for face in label_faces:\n",
    "            embedding = get_embedding_face(face)\n",
    "            embeddings.append(embedding)\n",
    "\n",
    "        embeddings = np.array(embeddings)\n",
    "        average_embedding = np.mean(embeddings, axis=0)\n",
    "        average_embeddings.append(average_embedding)\n",
    "\n",
    "    average_embeddings = np.array(average_embeddings)\n",
    "    unique_labels = np.array(unique_labels)\n",
    "\n",
    "    return average_embeddings, unique_labels"
   ]
  },
  {
   "cell_type": "code",
   "execution_count": 5,
   "metadata": {},
   "outputs": [
    {
     "name": "stdout",
     "output_type": "stream",
     "text": [
      "dataset/barack_obama/barack_obama_1.jpg\n",
      "0.9999804496765137\n",
      "0.7541635036468506\n",
      "dataset/barack_obama/barack_obama_2.jpg\n",
      "0.9999768733978271\n",
      "dataset/barack_obama/barack_obama_3.jpg\n",
      "0.9999946355819702\n",
      "dataset/barack_obama/barack_obama_4.jpg\n",
      "0.99996018409729\n",
      "dataset/joe_biden/joe_biden_1.jpg\n",
      "0.9990785121917725\n",
      "dataset/joe_biden/joe_biden_2.jpg\n",
      "0.9990211725234985\n"
     ]
    }
   ],
   "source": [
    "path = \"dataset/\"\n",
    "faces = None\n",
    "labels = None\n",
    "for subdir in os.listdir(path):\n",
    "    faces_list = []\n",
    "    labels_list = []\n",
    "    for filename in os.listdir(path + subdir + \"/\"):\n",
    "        file_path = path + subdir + \"/\" + filename\n",
    "        print(file_path)\n",
    "        face = extract_face(file_path)\n",
    "        faces_list.extend(face)\n",
    "        labels_list.extend([subdir for _ in range(len(face))])\n",
    "    if faces is None:\n",
    "        faces = np.asarray(faces_list)\n",
    "        labels = np.asarray(labels_list)\n",
    "    else:\n",
    "        faces = np.concatenate((faces, faces_list))\n",
    "        labels = np.concatenate((labels, labels_list))"
   ]
  },
  {
   "cell_type": "code",
   "execution_count": 6,
   "metadata": {},
   "outputs": [
    {
     "name": "stdout",
     "output_type": "stream",
     "text": [
      "1/1 [==============================] - 2s 2s/step\n",
      "1/1 [==============================] - 0s 33ms/step\n",
      "1/1 [==============================] - 0s 32ms/step\n",
      "1/1 [==============================] - 0s 34ms/step\n",
      "1/1 [==============================] - 0s 34ms/step\n",
      "1/1 [==============================] - 0s 39ms/step\n"
     ]
    }
   ],
   "source": [
    "average_embeded_face, unique_labels = calculate_average_embeddings(faces, labels)\n",
    "# embeddings = []\n",
    "# for face in faces:\n",
    "#     embedding = get_embedding_face(face)\n",
    "#     embeddings.append(embedding)"
   ]
  },
  {
   "cell_type": "code",
   "execution_count": 8,
   "metadata": {},
   "outputs": [
    {
     "name": "stdout",
     "output_type": "stream",
     "text": [
      "1/1 [==============================] - 0s 33ms/step\n",
      "0 - barack_obama\n",
      "1/1 [==============================] - 0s 34ms/step\n",
      "0 - barack_obama\n",
      "1/1 [==============================] - 0s 33ms/step\n",
      "0 - barack_obama\n",
      "1/1 [==============================] - 0s 31ms/step\n",
      "0 - barack_obama\n",
      "1/1 [==============================] - 0s 33ms/step\n",
      "0 - joe_biden\n",
      "1/1 [==============================] - 0s 33ms/step\n",
      "0 - joe_biden\n"
     ]
    }
   ],
   "source": [
    "for i in range(len(faces)):\n",
    "    embed = get_embedding_face(faces[i])\n",
    "    print(f'{model.compute_distance(embed, average_embeded_face[0])} - {labels[i]}')"
   ]
  }
 ],
 "metadata": {
  "kernelspec": {
   "display_name": "doan",
   "language": "python",
   "name": "python3"
  },
  "language_info": {
   "codemirror_mode": {
    "name": "ipython",
    "version": 3
   },
   "file_extension": ".py",
   "mimetype": "text/x-python",
   "name": "python",
   "nbconvert_exporter": "python",
   "pygments_lexer": "ipython3",
   "version": "3.8.15"
  }
 },
 "nbformat": 4,
 "nbformat_minor": 2
}
